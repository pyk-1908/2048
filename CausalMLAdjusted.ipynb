{
  "nbformat": 4,
  "nbformat_minor": 0,
  "metadata": {
    "colab": {
      "provenance": [],
      "authorship_tag": "ABX9TyO/iYBs8B2Y2eDvuD6t+hhU"
    },
    "kernelspec": {
      "name": "python3",
      "display_name": "Python 3"
    },
    "language_info": {
      "name": "python"
    }
  },
  "cells": [
    {
      "cell_type": "code",
      "execution_count": null,
      "metadata": {
        "colab": {
          "base_uri": "https://localhost:8080/"
        },
        "id": "y51Vj_FI6Yxr",
        "outputId": "529b7009-8217-4e01-96c8-5360e72db4e2"
      },
      "outputs": [
        {
          "output_type": "stream",
          "name": "stdout",
          "text": [
            "Collecting causalml\n",
            "  Downloading causalml-0.15.4-cp311-cp311-manylinux_2_17_x86_64.manylinux2014_x86_64.whl.metadata (10 kB)\n",
            "Requirement already satisfied: pandas in /usr/local/lib/python3.11/dist-packages (2.2.2)\n",
            "Requirement already satisfied: numpy in /usr/local/lib/python3.11/dist-packages (2.0.2)\n",
            "Requirement already satisfied: scikit-learn in /usr/local/lib/python3.11/dist-packages (1.6.1)\n",
            "Requirement already satisfied: matplotlib in /usr/local/lib/python3.11/dist-packages (3.10.0)\n",
            "Collecting forestci==0.6 (from causalml)\n",
            "  Downloading forestci-0.6-py3-none-any.whl.metadata (1.3 kB)\n",
            "Collecting pathos==0.2.9 (from causalml)\n",
            "  Downloading pathos-0.2.9-py3-none-any.whl.metadata (11 kB)\n",
            "Requirement already satisfied: pip>=10.0 in /usr/local/lib/python3.11/dist-packages (from causalml) (24.1.2)\n",
            "Requirement already satisfied: scipy>=1.4.1 in /usr/local/lib/python3.11/dist-packages (from causalml) (1.15.3)\n",
            "Requirement already satisfied: statsmodels>=0.9.0 in /usr/local/lib/python3.11/dist-packages (from causalml) (0.14.4)\n",
            "Requirement already satisfied: Cython in /usr/local/lib/python3.11/dist-packages (from causalml) (3.0.12)\n",
            "Requirement already satisfied: seaborn in /usr/local/lib/python3.11/dist-packages (from causalml) (0.13.2)\n",
            "Requirement already satisfied: xgboost in /usr/local/lib/python3.11/dist-packages (from causalml) (2.1.4)\n",
            "Requirement already satisfied: pydotplus in /usr/local/lib/python3.11/dist-packages (from causalml) (2.0.2)\n",
            "Requirement already satisfied: tqdm in /usr/local/lib/python3.11/dist-packages (from causalml) (4.67.1)\n",
            "Requirement already satisfied: shap in /usr/local/lib/python3.11/dist-packages (from causalml) (0.47.2)\n",
            "Requirement already satisfied: dill in /usr/local/lib/python3.11/dist-packages (from causalml) (0.3.7)\n",
            "Requirement already satisfied: lightgbm in /usr/local/lib/python3.11/dist-packages (from causalml) (4.5.0)\n",
            "Requirement already satisfied: packaging in /usr/local/lib/python3.11/dist-packages (from causalml) (24.2)\n",
            "Requirement already satisfied: graphviz in /usr/local/lib/python3.11/dist-packages (from causalml) (0.20.3)\n",
            "Collecting ppft>=1.7.6.5 (from pathos==0.2.9->causalml)\n",
            "  Downloading ppft-1.7.7-py3-none-any.whl.metadata (12 kB)\n",
            "Collecting pox>=0.3.1 (from pathos==0.2.9->causalml)\n",
            "  Downloading pox-0.3.6-py3-none-any.whl.metadata (8.0 kB)\n",
            "Requirement already satisfied: multiprocess>=0.70.13 in /usr/local/lib/python3.11/dist-packages (from pathos==0.2.9->causalml) (0.70.15)\n",
            "Requirement already satisfied: python-dateutil>=2.8.2 in /usr/local/lib/python3.11/dist-packages (from pandas) (2.9.0.post0)\n",
            "Requirement already satisfied: pytz>=2020.1 in /usr/local/lib/python3.11/dist-packages (from pandas) (2025.2)\n",
            "Requirement already satisfied: tzdata>=2022.7 in /usr/local/lib/python3.11/dist-packages (from pandas) (2025.2)\n",
            "Requirement already satisfied: joblib>=1.2.0 in /usr/local/lib/python3.11/dist-packages (from scikit-learn) (1.5.1)\n",
            "Requirement already satisfied: threadpoolctl>=3.1.0 in /usr/local/lib/python3.11/dist-packages (from scikit-learn) (3.6.0)\n",
            "Requirement already satisfied: contourpy>=1.0.1 in /usr/local/lib/python3.11/dist-packages (from matplotlib) (1.3.2)\n",
            "Requirement already satisfied: cycler>=0.10 in /usr/local/lib/python3.11/dist-packages (from matplotlib) (0.12.1)\n",
            "Requirement already satisfied: fonttools>=4.22.0 in /usr/local/lib/python3.11/dist-packages (from matplotlib) (4.58.1)\n",
            "Requirement already satisfied: kiwisolver>=1.3.1 in /usr/local/lib/python3.11/dist-packages (from matplotlib) (1.4.8)\n",
            "Requirement already satisfied: pillow>=8 in /usr/local/lib/python3.11/dist-packages (from matplotlib) (11.2.1)\n",
            "Requirement already satisfied: pyparsing>=2.3.1 in /usr/local/lib/python3.11/dist-packages (from matplotlib) (3.2.3)\n",
            "Requirement already satisfied: six>=1.5 in /usr/local/lib/python3.11/dist-packages (from python-dateutil>=2.8.2->pandas) (1.17.0)\n",
            "Requirement already satisfied: patsy>=0.5.6 in /usr/local/lib/python3.11/dist-packages (from statsmodels>=0.9.0->causalml) (1.0.1)\n",
            "Requirement already satisfied: slicer==0.0.8 in /usr/local/lib/python3.11/dist-packages (from shap->causalml) (0.0.8)\n",
            "Requirement already satisfied: numba>=0.54 in /usr/local/lib/python3.11/dist-packages (from shap->causalml) (0.60.0)\n",
            "Requirement already satisfied: cloudpickle in /usr/local/lib/python3.11/dist-packages (from shap->causalml) (3.1.1)\n",
            "Requirement already satisfied: typing-extensions in /usr/local/lib/python3.11/dist-packages (from shap->causalml) (4.14.0)\n",
            "Requirement already satisfied: nvidia-nccl-cu12 in /usr/local/lib/python3.11/dist-packages (from xgboost->causalml) (2.21.5)\n",
            "Requirement already satisfied: llvmlite<0.44,>=0.43.0dev0 in /usr/local/lib/python3.11/dist-packages (from numba>=0.54->shap->causalml) (0.43.0)\n",
            "Downloading causalml-0.15.4-cp311-cp311-manylinux_2_17_x86_64.manylinux2014_x86_64.whl (8.5 MB)\n",
            "\u001b[2K   \u001b[90m━━━━━━━━━━━━━━━━━━━━━━━━━━━━━━━━━━━━━━━━\u001b[0m \u001b[32m8.5/8.5 MB\u001b[0m \u001b[31m16.9 MB/s\u001b[0m eta \u001b[36m0:00:00\u001b[0m\n",
            "\u001b[?25hDownloading forestci-0.6-py3-none-any.whl (12 kB)\n",
            "Downloading pathos-0.2.9-py3-none-any.whl (76 kB)\n",
            "\u001b[2K   \u001b[90m━━━━━━━━━━━━━━━━━━━━━━━━━━━━━━━━━━━━━━━━\u001b[0m \u001b[32m76.9/76.9 kB\u001b[0m \u001b[31m3.1 MB/s\u001b[0m eta \u001b[36m0:00:00\u001b[0m\n",
            "\u001b[?25hDownloading pox-0.3.6-py3-none-any.whl (29 kB)\n",
            "Downloading ppft-1.7.7-py3-none-any.whl (56 kB)\n",
            "\u001b[2K   \u001b[90m━━━━━━━━━━━━━━━━━━━━━━━━━━━━━━━━━━━━━━━━\u001b[0m \u001b[32m56.8/56.8 kB\u001b[0m \u001b[31m1.8 MB/s\u001b[0m eta \u001b[36m0:00:00\u001b[0m\n",
            "\u001b[?25hInstalling collected packages: ppft, pox, pathos, forestci, causalml\n",
            "Successfully installed causalml-0.15.4 forestci-0.6 pathos-0.2.9 pox-0.3.6 ppft-1.7.7\n"
          ]
        }
      ],
      "source": [
        "pip install causalml pandas numpy scikit-learn matplotlib"
      ]
    },
    {
      "cell_type": "code",
      "source": [
        "import pandas as pd\n",
        "import numpy as np\n",
        "import matplotlib.pyplot as plt\n",
        "\n",
        "from sklearn.ensemble import RandomForestRegressor\n",
        "from sklearn.linear_model import LogisticRegression\n",
        "from causalml.inference.meta import BaseDRLearner, BaseXLearner"
      ],
      "metadata": {
        "id": "epPIxX2P6aB7"
      },
      "execution_count": null,
      "outputs": []
    },
    {
      "cell_type": "code",
      "source": [
        "# 1. Loading and preparing data\n",
        "df = pd.read_csv('/content/df_new.csv')\n",
        "print(\"Initial shape:\", df.shape)\n",
        "\n",
        "# Robust Quarter → int\n",
        "if pd.api.types.is_numeric_dtype(df['Quarter']):\n",
        "    df['QuarterInt'] = df['Quarter'].astype(int)\n",
        "else:\n",
        "    df['QuarterInt'] = (df['Quarter']\n",
        "                       .astype(str)\n",
        "                       .str.replace('Q','', regex=False)\n",
        "                       .astype(int))\n",
        "\n",
        "# next-quarter ACR\n",
        "df = df.sort_values(['Provider','Year','QuarterInt'])\n",
        "df['ACR_next'] = df.groupby('Provider')['ACR'].shift(-1)\n",
        "\n",
        "\n",
        "# Note: CausalML only takes discrete data\n",
        "# Binary treatment: 1 if ↑, else 0\n",
        "df['treatment'] = (df['ACR_next'] > df['ACR']).astype(int)\n",
        "\n",
        "# Dropping the missing values\n",
        "df_model = df.dropna(subset=['treatment','ChurnRate']).copy()\n",
        "print(\"After dropna:\", df_model.shape)"
      ],
      "metadata": {
        "colab": {
          "base_uri": "https://localhost:8080/"
        },
        "id": "8kqNs47P6pIO",
        "outputId": "f8b44084-7b30-41c5-ce53-7a6020304065"
      },
      "execution_count": null,
      "outputs": [
        {
          "output_type": "stream",
          "name": "stdout",
          "text": [
            "Initial shape: (3276, 17)\n",
            "After dropna: (3276, 17)\n"
          ]
        }
      ]
    },
    {
      "cell_type": "code",
      "source": [
        "df.columns"
      ],
      "metadata": {
        "colab": {
          "base_uri": "https://localhost:8080/"
        },
        "id": "bEA_NQjNDBnm",
        "outputId": "120c6d1a-a64a-475e-b4f9-cda33f5448d1"
      },
      "execution_count": null,
      "outputs": [
        {
          "output_type": "execute_result",
          "data": {
            "text/plain": [
              "Index(['Year', 'Provider', 'Quarter', 'Members', 'ACR', 'RiskFactor',\n",
              "       'Regionality', 'Members_Lag', 'Rate_Lag', 'ChurnRate', 'Treatment',\n",
              "       'QuarterInt', 'ACR_next', 'treatment', 'CATE_DR', 'CATE_XL',\n",
              "       'Quarter_Since_Start'],\n",
              "      dtype='object')"
            ]
          },
          "metadata": {},
          "execution_count": 18
        }
      ]
    },
    {
      "cell_type": "code",
      "source": [
        "df.head()"
      ],
      "metadata": {
        "colab": {
          "base_uri": "https://localhost:8080/",
          "height": 312
        },
        "id": "xtowNLRVCXGg",
        "outputId": "602a27c1-e535-4f5f-f336-74a485954a7a"
      },
      "execution_count": null,
      "outputs": [
        {
          "output_type": "execute_result",
          "data": {
            "text/plain": [
              "   Year               Provider  Quarter  Members  ACR  RiskFactor Regionality  \\\n",
              "0  2016  AOK Baden-Württemberg        2  3108506  1.0    1.001319    Regional   \n",
              "1  2016  AOK Baden-Württemberg        3  3137197  1.0    1.001319    Regional   \n",
              "2  2016  AOK Baden-Württemberg        4  3175380  1.0    1.001319    Regional   \n",
              "3  2017  AOK Baden-Württemberg        1  3197300  1.0    0.985325    Regional   \n",
              "4  2017  AOK Baden-Württemberg        2  3219811  1.0    0.985325    Regional   \n",
              "\n",
              "   Members_Lag  Rate_Lag  ChurnRate  Treatment  QuarterInt  ACR_next  \\\n",
              "0    3081619.0       1.0  -0.008725          0           2       1.0   \n",
              "1    3108506.0       1.0  -0.009230          0           3       1.0   \n",
              "2    3137197.0       1.0  -0.012171          0           4       1.0   \n",
              "3    3175380.0       1.0  -0.006903          0           1       1.0   \n",
              "4    3197300.0       1.0  -0.007041          0           2       1.0   \n",
              "\n",
              "   treatment   CATE_DR   CATE_XL  Quarter_Since_Start  \n",
              "0          0  0.002995 -0.001274                    2  \n",
              "1          0  0.002244  0.002332                    3  \n",
              "2          0  0.006307  0.004113                    4  \n",
              "3          0 -0.000855  0.001949                    5  \n",
              "4          0  0.002288 -0.001541                    6  "
            ],
            "text/html": [
              "\n",
              "  <div id=\"df-90a6063c-c858-4853-9058-fbd0dd05dda6\" class=\"colab-df-container\">\n",
              "    <div>\n",
              "<style scoped>\n",
              "    .dataframe tbody tr th:only-of-type {\n",
              "        vertical-align: middle;\n",
              "    }\n",
              "\n",
              "    .dataframe tbody tr th {\n",
              "        vertical-align: top;\n",
              "    }\n",
              "\n",
              "    .dataframe thead th {\n",
              "        text-align: right;\n",
              "    }\n",
              "</style>\n",
              "<table border=\"1\" class=\"dataframe\">\n",
              "  <thead>\n",
              "    <tr style=\"text-align: right;\">\n",
              "      <th></th>\n",
              "      <th>Year</th>\n",
              "      <th>Provider</th>\n",
              "      <th>Quarter</th>\n",
              "      <th>Members</th>\n",
              "      <th>ACR</th>\n",
              "      <th>RiskFactor</th>\n",
              "      <th>Regionality</th>\n",
              "      <th>Members_Lag</th>\n",
              "      <th>Rate_Lag</th>\n",
              "      <th>ChurnRate</th>\n",
              "      <th>Treatment</th>\n",
              "      <th>QuarterInt</th>\n",
              "      <th>ACR_next</th>\n",
              "      <th>treatment</th>\n",
              "      <th>CATE_DR</th>\n",
              "      <th>CATE_XL</th>\n",
              "      <th>Quarter_Since_Start</th>\n",
              "    </tr>\n",
              "  </thead>\n",
              "  <tbody>\n",
              "    <tr>\n",
              "      <th>0</th>\n",
              "      <td>2016</td>\n",
              "      <td>AOK Baden-Württemberg</td>\n",
              "      <td>2</td>\n",
              "      <td>3108506</td>\n",
              "      <td>1.0</td>\n",
              "      <td>1.001319</td>\n",
              "      <td>Regional</td>\n",
              "      <td>3081619.0</td>\n",
              "      <td>1.0</td>\n",
              "      <td>-0.008725</td>\n",
              "      <td>0</td>\n",
              "      <td>2</td>\n",
              "      <td>1.0</td>\n",
              "      <td>0</td>\n",
              "      <td>0.002995</td>\n",
              "      <td>-0.001274</td>\n",
              "      <td>2</td>\n",
              "    </tr>\n",
              "    <tr>\n",
              "      <th>1</th>\n",
              "      <td>2016</td>\n",
              "      <td>AOK Baden-Württemberg</td>\n",
              "      <td>3</td>\n",
              "      <td>3137197</td>\n",
              "      <td>1.0</td>\n",
              "      <td>1.001319</td>\n",
              "      <td>Regional</td>\n",
              "      <td>3108506.0</td>\n",
              "      <td>1.0</td>\n",
              "      <td>-0.009230</td>\n",
              "      <td>0</td>\n",
              "      <td>3</td>\n",
              "      <td>1.0</td>\n",
              "      <td>0</td>\n",
              "      <td>0.002244</td>\n",
              "      <td>0.002332</td>\n",
              "      <td>3</td>\n",
              "    </tr>\n",
              "    <tr>\n",
              "      <th>2</th>\n",
              "      <td>2016</td>\n",
              "      <td>AOK Baden-Württemberg</td>\n",
              "      <td>4</td>\n",
              "      <td>3175380</td>\n",
              "      <td>1.0</td>\n",
              "      <td>1.001319</td>\n",
              "      <td>Regional</td>\n",
              "      <td>3137197.0</td>\n",
              "      <td>1.0</td>\n",
              "      <td>-0.012171</td>\n",
              "      <td>0</td>\n",
              "      <td>4</td>\n",
              "      <td>1.0</td>\n",
              "      <td>0</td>\n",
              "      <td>0.006307</td>\n",
              "      <td>0.004113</td>\n",
              "      <td>4</td>\n",
              "    </tr>\n",
              "    <tr>\n",
              "      <th>3</th>\n",
              "      <td>2017</td>\n",
              "      <td>AOK Baden-Württemberg</td>\n",
              "      <td>1</td>\n",
              "      <td>3197300</td>\n",
              "      <td>1.0</td>\n",
              "      <td>0.985325</td>\n",
              "      <td>Regional</td>\n",
              "      <td>3175380.0</td>\n",
              "      <td>1.0</td>\n",
              "      <td>-0.006903</td>\n",
              "      <td>0</td>\n",
              "      <td>1</td>\n",
              "      <td>1.0</td>\n",
              "      <td>0</td>\n",
              "      <td>-0.000855</td>\n",
              "      <td>0.001949</td>\n",
              "      <td>5</td>\n",
              "    </tr>\n",
              "    <tr>\n",
              "      <th>4</th>\n",
              "      <td>2017</td>\n",
              "      <td>AOK Baden-Württemberg</td>\n",
              "      <td>2</td>\n",
              "      <td>3219811</td>\n",
              "      <td>1.0</td>\n",
              "      <td>0.985325</td>\n",
              "      <td>Regional</td>\n",
              "      <td>3197300.0</td>\n",
              "      <td>1.0</td>\n",
              "      <td>-0.007041</td>\n",
              "      <td>0</td>\n",
              "      <td>2</td>\n",
              "      <td>1.0</td>\n",
              "      <td>0</td>\n",
              "      <td>0.002288</td>\n",
              "      <td>-0.001541</td>\n",
              "      <td>6</td>\n",
              "    </tr>\n",
              "  </tbody>\n",
              "</table>\n",
              "</div>\n",
              "    <div class=\"colab-df-buttons\">\n",
              "\n",
              "  <div class=\"colab-df-container\">\n",
              "    <button class=\"colab-df-convert\" onclick=\"convertToInteractive('df-90a6063c-c858-4853-9058-fbd0dd05dda6')\"\n",
              "            title=\"Convert this dataframe to an interactive table.\"\n",
              "            style=\"display:none;\">\n",
              "\n",
              "  <svg xmlns=\"http://www.w3.org/2000/svg\" height=\"24px\" viewBox=\"0 -960 960 960\">\n",
              "    <path d=\"M120-120v-720h720v720H120Zm60-500h600v-160H180v160Zm220 220h160v-160H400v160Zm0 220h160v-160H400v160ZM180-400h160v-160H180v160Zm440 0h160v-160H620v160ZM180-180h160v-160H180v160Zm440 0h160v-160H620v160Z\"/>\n",
              "  </svg>\n",
              "    </button>\n",
              "\n",
              "  <style>\n",
              "    .colab-df-container {\n",
              "      display:flex;\n",
              "      gap: 12px;\n",
              "    }\n",
              "\n",
              "    .colab-df-convert {\n",
              "      background-color: #E8F0FE;\n",
              "      border: none;\n",
              "      border-radius: 50%;\n",
              "      cursor: pointer;\n",
              "      display: none;\n",
              "      fill: #1967D2;\n",
              "      height: 32px;\n",
              "      padding: 0 0 0 0;\n",
              "      width: 32px;\n",
              "    }\n",
              "\n",
              "    .colab-df-convert:hover {\n",
              "      background-color: #E2EBFA;\n",
              "      box-shadow: 0px 1px 2px rgba(60, 64, 67, 0.3), 0px 1px 3px 1px rgba(60, 64, 67, 0.15);\n",
              "      fill: #174EA6;\n",
              "    }\n",
              "\n",
              "    .colab-df-buttons div {\n",
              "      margin-bottom: 4px;\n",
              "    }\n",
              "\n",
              "    [theme=dark] .colab-df-convert {\n",
              "      background-color: #3B4455;\n",
              "      fill: #D2E3FC;\n",
              "    }\n",
              "\n",
              "    [theme=dark] .colab-df-convert:hover {\n",
              "      background-color: #434B5C;\n",
              "      box-shadow: 0px 1px 3px 1px rgba(0, 0, 0, 0.15);\n",
              "      filter: drop-shadow(0px 1px 2px rgba(0, 0, 0, 0.3));\n",
              "      fill: #FFFFFF;\n",
              "    }\n",
              "  </style>\n",
              "\n",
              "    <script>\n",
              "      const buttonEl =\n",
              "        document.querySelector('#df-90a6063c-c858-4853-9058-fbd0dd05dda6 button.colab-df-convert');\n",
              "      buttonEl.style.display =\n",
              "        google.colab.kernel.accessAllowed ? 'block' : 'none';\n",
              "\n",
              "      async function convertToInteractive(key) {\n",
              "        const element = document.querySelector('#df-90a6063c-c858-4853-9058-fbd0dd05dda6');\n",
              "        const dataTable =\n",
              "          await google.colab.kernel.invokeFunction('convertToInteractive',\n",
              "                                                    [key], {});\n",
              "        if (!dataTable) return;\n",
              "\n",
              "        const docLinkHtml = 'Like what you see? Visit the ' +\n",
              "          '<a target=\"_blank\" href=https://colab.research.google.com/notebooks/data_table.ipynb>data table notebook</a>'\n",
              "          + ' to learn more about interactive tables.';\n",
              "        element.innerHTML = '';\n",
              "        dataTable['output_type'] = 'display_data';\n",
              "        await google.colab.output.renderOutput(dataTable, element);\n",
              "        const docLink = document.createElement('div');\n",
              "        docLink.innerHTML = docLinkHtml;\n",
              "        element.appendChild(docLink);\n",
              "      }\n",
              "    </script>\n",
              "  </div>\n",
              "\n",
              "\n",
              "    <div id=\"df-419559e3-c2cc-41c3-a660-c1e6b43c554e\">\n",
              "      <button class=\"colab-df-quickchart\" onclick=\"quickchart('df-419559e3-c2cc-41c3-a660-c1e6b43c554e')\"\n",
              "                title=\"Suggest charts\"\n",
              "                style=\"display:none;\">\n",
              "\n",
              "<svg xmlns=\"http://www.w3.org/2000/svg\" height=\"24px\"viewBox=\"0 0 24 24\"\n",
              "     width=\"24px\">\n",
              "    <g>\n",
              "        <path d=\"M19 3H5c-1.1 0-2 .9-2 2v14c0 1.1.9 2 2 2h14c1.1 0 2-.9 2-2V5c0-1.1-.9-2-2-2zM9 17H7v-7h2v7zm4 0h-2V7h2v10zm4 0h-2v-4h2v4z\"/>\n",
              "    </g>\n",
              "</svg>\n",
              "      </button>\n",
              "\n",
              "<style>\n",
              "  .colab-df-quickchart {\n",
              "      --bg-color: #E8F0FE;\n",
              "      --fill-color: #1967D2;\n",
              "      --hover-bg-color: #E2EBFA;\n",
              "      --hover-fill-color: #174EA6;\n",
              "      --disabled-fill-color: #AAA;\n",
              "      --disabled-bg-color: #DDD;\n",
              "  }\n",
              "\n",
              "  [theme=dark] .colab-df-quickchart {\n",
              "      --bg-color: #3B4455;\n",
              "      --fill-color: #D2E3FC;\n",
              "      --hover-bg-color: #434B5C;\n",
              "      --hover-fill-color: #FFFFFF;\n",
              "      --disabled-bg-color: #3B4455;\n",
              "      --disabled-fill-color: #666;\n",
              "  }\n",
              "\n",
              "  .colab-df-quickchart {\n",
              "    background-color: var(--bg-color);\n",
              "    border: none;\n",
              "    border-radius: 50%;\n",
              "    cursor: pointer;\n",
              "    display: none;\n",
              "    fill: var(--fill-color);\n",
              "    height: 32px;\n",
              "    padding: 0;\n",
              "    width: 32px;\n",
              "  }\n",
              "\n",
              "  .colab-df-quickchart:hover {\n",
              "    background-color: var(--hover-bg-color);\n",
              "    box-shadow: 0 1px 2px rgba(60, 64, 67, 0.3), 0 1px 3px 1px rgba(60, 64, 67, 0.15);\n",
              "    fill: var(--button-hover-fill-color);\n",
              "  }\n",
              "\n",
              "  .colab-df-quickchart-complete:disabled,\n",
              "  .colab-df-quickchart-complete:disabled:hover {\n",
              "    background-color: var(--disabled-bg-color);\n",
              "    fill: var(--disabled-fill-color);\n",
              "    box-shadow: none;\n",
              "  }\n",
              "\n",
              "  .colab-df-spinner {\n",
              "    border: 2px solid var(--fill-color);\n",
              "    border-color: transparent;\n",
              "    border-bottom-color: var(--fill-color);\n",
              "    animation:\n",
              "      spin 1s steps(1) infinite;\n",
              "  }\n",
              "\n",
              "  @keyframes spin {\n",
              "    0% {\n",
              "      border-color: transparent;\n",
              "      border-bottom-color: var(--fill-color);\n",
              "      border-left-color: var(--fill-color);\n",
              "    }\n",
              "    20% {\n",
              "      border-color: transparent;\n",
              "      border-left-color: var(--fill-color);\n",
              "      border-top-color: var(--fill-color);\n",
              "    }\n",
              "    30% {\n",
              "      border-color: transparent;\n",
              "      border-left-color: var(--fill-color);\n",
              "      border-top-color: var(--fill-color);\n",
              "      border-right-color: var(--fill-color);\n",
              "    }\n",
              "    40% {\n",
              "      border-color: transparent;\n",
              "      border-right-color: var(--fill-color);\n",
              "      border-top-color: var(--fill-color);\n",
              "    }\n",
              "    60% {\n",
              "      border-color: transparent;\n",
              "      border-right-color: var(--fill-color);\n",
              "    }\n",
              "    80% {\n",
              "      border-color: transparent;\n",
              "      border-right-color: var(--fill-color);\n",
              "      border-bottom-color: var(--fill-color);\n",
              "    }\n",
              "    90% {\n",
              "      border-color: transparent;\n",
              "      border-bottom-color: var(--fill-color);\n",
              "    }\n",
              "  }\n",
              "</style>\n",
              "\n",
              "      <script>\n",
              "        async function quickchart(key) {\n",
              "          const quickchartButtonEl =\n",
              "            document.querySelector('#' + key + ' button');\n",
              "          quickchartButtonEl.disabled = true;  // To prevent multiple clicks.\n",
              "          quickchartButtonEl.classList.add('colab-df-spinner');\n",
              "          try {\n",
              "            const charts = await google.colab.kernel.invokeFunction(\n",
              "                'suggestCharts', [key], {});\n",
              "          } catch (error) {\n",
              "            console.error('Error during call to suggestCharts:', error);\n",
              "          }\n",
              "          quickchartButtonEl.classList.remove('colab-df-spinner');\n",
              "          quickchartButtonEl.classList.add('colab-df-quickchart-complete');\n",
              "        }\n",
              "        (() => {\n",
              "          let quickchartButtonEl =\n",
              "            document.querySelector('#df-419559e3-c2cc-41c3-a660-c1e6b43c554e button');\n",
              "          quickchartButtonEl.style.display =\n",
              "            google.colab.kernel.accessAllowed ? 'block' : 'none';\n",
              "        })();\n",
              "      </script>\n",
              "    </div>\n",
              "\n",
              "    </div>\n",
              "  </div>\n"
            ],
            "application/vnd.google.colaboratory.intrinsic+json": {
              "type": "dataframe",
              "variable_name": "df",
              "summary": "{\n  \"name\": \"df\",\n  \"rows\": 3276,\n  \"fields\": [\n    {\n      \"column\": \"Year\",\n      \"properties\": {\n        \"dtype\": \"number\",\n        \"std\": 2,\n        \"min\": 2016,\n        \"max\": 2025,\n        \"num_unique_values\": 10,\n        \"samples\": [\n          2024,\n          2017,\n          2021\n        ],\n        \"semantic_type\": \"\",\n        \"description\": \"\"\n      }\n    },\n    {\n      \"column\": \"Provider\",\n      \"properties\": {\n        \"dtype\": \"category\",\n        \"num_unique_values\": 91,\n        \"samples\": [\n          \"BKK Salzgitter\",\n          \"BKK Faber-Castell & Partner\",\n          \"BKK24\"\n        ],\n        \"semantic_type\": \"\",\n        \"description\": \"\"\n      }\n    },\n    {\n      \"column\": \"Quarter\",\n      \"properties\": {\n        \"dtype\": \"number\",\n        \"std\": 1,\n        \"min\": 1,\n        \"max\": 4,\n        \"num_unique_values\": 4,\n        \"samples\": [\n          3,\n          1,\n          2\n        ],\n        \"semantic_type\": \"\",\n        \"description\": \"\"\n      }\n    },\n    {\n      \"column\": \"Members\",\n      \"properties\": {\n        \"dtype\": \"number\",\n        \"std\": 1366265,\n        \"min\": 1561,\n        \"max\": 9165666,\n        \"num_unique_values\": 3134,\n        \"samples\": [\n          1582,\n          385886,\n          471409\n        ],\n        \"semantic_type\": \"\",\n        \"description\": \"\"\n      }\n    },\n    {\n      \"column\": \"ACR\",\n      \"properties\": {\n        \"dtype\": \"number\",\n        \"std\": 0.5131149428725619,\n        \"min\": 0.0,\n        \"max\": 4.2,\n        \"num_unique_values\": 127,\n        \"samples\": [\n          2.2,\n          2.98,\n          2.75\n        ],\n        \"semantic_type\": \"\",\n        \"description\": \"\"\n      }\n    },\n    {\n      \"column\": \"RiskFactor\",\n      \"properties\": {\n        \"dtype\": \"number\",\n        \"std\": 0.15231793304373054,\n        \"min\": 0.0,\n        \"max\": 1.399996247670359,\n        \"num_unique_values\": 701,\n        \"samples\": [\n          0.7936429291159515,\n          0.93561664639898,\n          0.9383369421761234\n        ],\n        \"semantic_type\": \"\",\n        \"description\": \"\"\n      }\n    },\n    {\n      \"column\": \"Regionality\",\n      \"properties\": {\n        \"dtype\": \"category\",\n        \"num_unique_values\": 3,\n        \"samples\": [\n          \"Regional\",\n          \"Bundesweit\",\n          \"betriebsbezogen\"\n        ],\n        \"semantic_type\": \"\",\n        \"description\": \"\"\n      }\n    },\n    {\n      \"column\": \"Members_Lag\",\n      \"properties\": {\n        \"dtype\": \"number\",\n        \"std\": 1363483.2715849113,\n        \"min\": 1561.0,\n        \"max\": 9091128.0,\n        \"num_unique_values\": 3135,\n        \"samples\": [\n          171182.0,\n          385032.0,\n          470374.0\n        ],\n        \"semantic_type\": \"\",\n        \"description\": \"\"\n      }\n    },\n    {\n      \"column\": \"Rate_Lag\",\n      \"properties\": {\n        \"dtype\": \"number\",\n        \"std\": 0.4174339405007556,\n        \"min\": 0.0,\n        \"max\": 3.9,\n        \"num_unique_values\": 97,\n        \"samples\": [\n          3.19,\n          0.4,\n          1.086046779986642\n        ],\n        \"semantic_type\": \"\",\n        \"description\": \"\"\n      }\n    },\n    {\n      \"column\": \"ChurnRate\",\n      \"properties\": {\n        \"dtype\": \"number\",\n        \"std\": 0.016700009675951016,\n        \"min\": -0.4209960421552179,\n        \"max\": 0.1160794764274797,\n        \"num_unique_values\": 3172,\n        \"samples\": [\n          -0.010343169781034,\n          0.0031944728191222,\n          -0.0227063024030168\n        ],\n        \"semantic_type\": \"\",\n        \"description\": \"\"\n      }\n    },\n    {\n      \"column\": \"Treatment\",\n      \"properties\": {\n        \"dtype\": \"number\",\n        \"std\": 0,\n        \"min\": 0,\n        \"max\": 1,\n        \"num_unique_values\": 2,\n        \"samples\": [\n          1,\n          0\n        ],\n        \"semantic_type\": \"\",\n        \"description\": \"\"\n      }\n    },\n    {\n      \"column\": \"QuarterInt\",\n      \"properties\": {\n        \"dtype\": \"number\",\n        \"std\": 1,\n        \"min\": 1,\n        \"max\": 4,\n        \"num_unique_values\": 4,\n        \"samples\": [\n          3,\n          1\n        ],\n        \"semantic_type\": \"\",\n        \"description\": \"\"\n      }\n    },\n    {\n      \"column\": \"ACR_next\",\n      \"properties\": {\n        \"dtype\": \"number\",\n        \"std\": 0.5158345973950937,\n        \"min\": 0.0,\n        \"max\": 4.2,\n        \"num_unique_values\": 127,\n        \"samples\": [\n          2.2,\n          2.98\n        ],\n        \"semantic_type\": \"\",\n        \"description\": \"\"\n      }\n    },\n    {\n      \"column\": \"treatment\",\n      \"properties\": {\n        \"dtype\": \"number\",\n        \"std\": 0,\n        \"min\": 0,\n        \"max\": 1,\n        \"num_unique_values\": 2,\n        \"samples\": [\n          1,\n          0\n        ],\n        \"semantic_type\": \"\",\n        \"description\": \"\"\n      }\n    },\n    {\n      \"column\": \"CATE_DR\",\n      \"properties\": {\n        \"dtype\": \"number\",\n        \"std\": 0.025300971461652205,\n        \"min\": -0.756974876395352,\n        \"max\": 0.1260203872559298,\n        \"num_unique_values\": 3268,\n        \"samples\": [\n          -0.0075637712062216,\n          -0.0014390280987347\n        ],\n        \"semantic_type\": \"\",\n        \"description\": \"\"\n      }\n    },\n    {\n      \"column\": \"CATE_XL\",\n      \"properties\": {\n        \"dtype\": \"number\",\n        \"std\": 0.013288649395663748,\n        \"min\": -0.1769842742583474,\n        \"max\": 0.0456174424752234,\n        \"num_unique_values\": 3270,\n        \"samples\": [\n          0.0073323458566913,\n          -0.0032086067038312\n        ],\n        \"semantic_type\": \"\",\n        \"description\": \"\"\n      }\n    },\n    {\n      \"column\": \"Quarter_Since_Start\",\n      \"properties\": {\n        \"dtype\": \"number\",\n        \"std\": 10,\n        \"min\": 2,\n        \"max\": 37,\n        \"num_unique_values\": 36,\n        \"samples\": [\n          37,\n          15\n        ],\n        \"semantic_type\": \"\",\n        \"description\": \"\"\n      }\n    }\n  ]\n}"
            }
          },
          "metadata": {},
          "execution_count": 19
        }
      ]
    },
    {
      "cell_type": "code",
      "source": [
        "# Features, treatment, outcome\n",
        "X = df_model[[\n",
        "    'Quarter_Since_Start',\n",
        "    'Rate_Lag',\n",
        "    'Members_Lag',\n",
        "    'RiskFactor'\n",
        "]]\n",
        "T = df_model['treatment'].values\n",
        "y = df_model['ChurnRate'].values\n",
        "X_values = X.values"
      ],
      "metadata": {
        "id": "9gMEY8hS6uNU"
      },
      "execution_count": null,
      "outputs": []
    },
    {
      "cell_type": "code",
      "source": [
        "\n",
        "# 2. Fitting DR-Learner and get ATE, CATE, HTE\n",
        "dr = BaseDRLearner(learner=RandomForestRegressor(random_state=42))\n",
        "dr.fit(X_values, T, y)\n",
        "\n",
        "# predicting returns (n_samples, n_treatments_minus_control)= (n,1) here\n",
        "te_dr = dr.predict(X_values)[:, 0]\n",
        "df_model['CATE_DR'] = te_dr\n",
        "ate_dr = te_dr.mean()\n",
        "print(f\"\\nDR-Learner ATE (↑ vs no-↑): {ate_dr:.5f}\")\n",
        "\n",
        "# HTE histogram\n",
        "plt.figure()\n",
        "plt.hist(te_dr, bins=30, edgecolor='k')\n",
        "plt.title('HTE (DR-Learner): ↑ vs no-↑')\n",
        "plt.xlabel('Estimated ΔChurnRate')\n",
        "plt.ylabel('Count')\n",
        "plt.tight_layout()\n",
        "plt.show()"
      ],
      "metadata": {
        "colab": {
          "base_uri": "https://localhost:8080/",
          "height": 702
        },
        "id": "cQrWtkVc7A2q",
        "outputId": "031e181f-a253-4ebc-e820-b7bcbff4d230"
      },
      "execution_count": null,
      "outputs": [
        {
          "output_type": "stream",
          "name": "stderr",
          "text": [
            "/usr/local/lib/python3.11/dist-packages/sklearn/linear_model/_sag.py:348: ConvergenceWarning: The max_iter was reached which means the coef_ did not converge\n",
            "  warnings.warn(\n",
            "/usr/local/lib/python3.11/dist-packages/sklearn/linear_model/_sag.py:348: ConvergenceWarning: The max_iter was reached which means the coef_ did not converge\n",
            "  warnings.warn(\n",
            "/usr/local/lib/python3.11/dist-packages/sklearn/linear_model/_sag.py:348: ConvergenceWarning: The max_iter was reached which means the coef_ did not converge\n",
            "  warnings.warn(\n",
            "/usr/local/lib/python3.11/dist-packages/sklearn/linear_model/_sag.py:348: ConvergenceWarning: The max_iter was reached which means the coef_ did not converge\n",
            "  warnings.warn(\n",
            "/usr/local/lib/python3.11/dist-packages/sklearn/linear_model/_sag.py:348: ConvergenceWarning: The max_iter was reached which means the coef_ did not converge\n",
            "  warnings.warn(\n"
          ]
        },
        {
          "output_type": "stream",
          "name": "stdout",
          "text": [
            "\n",
            "DR-Learner ATE (↑ vs no-↑): -0.00387\n"
          ]
        },
        {
          "output_type": "display_data",
          "data": {
            "text/plain": [
              "<Figure size 640x480 with 1 Axes>"
            ],
            "image/png": "[encoded data removed]"
          },
          "metadata": {}
        }
      ]
    },
    {
      "cell_type": "code",
      "source": [
        "## UNDERSTANDING THE RESULTS\n",
        "\n",
        "# An ATE of –0.00263 means that, on average across all provider‐quarters in your sample, when the average contribution rate (ACR) increases from one quarter to the next (​treatment=1) rather than stays the same or decreases (treatment=0), the churn rate falls by 0.00263 in absolute terms.\n",
        "\t# •\tSince your churn rate is measured as a proportion (e.g. 0.05 = 5%), a change of –0.00263 corresponds to a 0.263 percentage‐point reduction in churn.\n",
        "\t# •\tIn practical terms, if you had 10 000 members, you’d expect about 26 fewer churns on average when you raise ACR, compared to not raising it."
      ],
      "metadata": {
        "id": "DAqAwJW7_qRd"
      },
      "execution_count": null,
      "outputs": []
    },
    {
      "cell_type": "code",
      "source": [
        "import pandas as pd\n",
        "\n",
        "hte_series = pd.Series(te_dr, name='HTE_DR')\n",
        "df_model['HTE_DR'] = hte_series\n",
        "\n",
        "# HTE numerical analysis\n",
        "print(\"All HTE values:\")\n",
        "print(hte_series.values)\n",
        "\n",
        "print(\"\\nHTE summary statistics:\")\n",
        "print(hte_series.describe())\n",
        "\n",
        "print(\"\\nTop 5 HTE values:\")\n",
        "print(hte_series.nlargest(5).values)\n",
        "\n",
        "print(\"\\nBottom 5 HTE values:\")\n",
        "print(hte_series.nsmallest(5).values)\n",
        "\n",
        "df_model[['Provider', 'Quarter_Since_Start', 'HTE_DR']].to_csv('hte_dr_results.csv', index=False)\n"
      ],
      "metadata": {
        "colab": {
          "base_uri": "https://localhost:8080/"
        },
        "id": "3EyEe6VFrAHO",
        "outputId": "b7842dac-d966-4584-cb75-e56763672dd0"
      },
      "execution_count": null,
      "outputs": [
        {
          "output_type": "stream",
          "name": "stdout",
          "text": [
            "All HTE values:\n",
            "[-0.00037349  0.00115086  0.00123615 ...  0.00862899 -0.00262925\n",
            " -0.00568758]\n",
            "\n",
            "HTE summary statistics:\n",
            "count    3276.000000\n",
            "mean       -0.003874\n",
            "std         0.029137\n",
            "min        -0.818402\n",
            "25%        -0.007192\n",
            "50%        -0.003902\n",
            "75%        -0.000240\n",
            "max         0.333498\n",
            "Name: HTE_DR, dtype: float64\n",
            "\n",
            "Top 5 HTE values:\n",
            "[0.33349808 0.24943758 0.22020336 0.21792313 0.20783931]\n",
            "\n",
            "Bottom 5 HTE values:\n",
            "[-0.81840243 -0.75469098 -0.32044575 -0.27418775 -0.18965981]\n"
          ]
        }
      ]
    },
    {
      "cell_type": "code",
      "source": [
        "print(\"First few CATEs:\\n\", df_model['CATE_DR'].head())\n",
        "print(\"\\nCATE summary:\\n\", df_model['CATE_DR'].describe())"
      ],
      "metadata": {
        "colab": {
          "base_uri": "https://localhost:8080/"
        },
        "id": "puuV1rYbAq4R",
        "outputId": "b5d3701a-ab54-4587-cc16-e81da40868fa"
      },
      "execution_count": null,
      "outputs": [
        {
          "output_type": "stream",
          "name": "stdout",
          "text": [
            "First few CATEs:\n",
            " 0   -0.000373\n",
            "1    0.001151\n",
            "2    0.001236\n",
            "3    0.001492\n",
            "4    0.001047\n",
            "Name: CATE_DR, dtype: float64\n",
            "\n",
            "CATE summary:\n",
            " count    3276.000000\n",
            "mean       -0.003874\n",
            "std         0.029137\n",
            "min        -0.818402\n",
            "25%        -0.007192\n",
            "50%        -0.003902\n",
            "75%        -0.000240\n",
            "max         0.333498\n",
            "Name: CATE_DR, dtype: float64\n"
          ]
        }
      ]
    },
    {
      "cell_type": "markdown",
      "source": [
        "ROBUSTNESS CHECKS"
      ],
      "metadata": {
        "id": "I--3aqS8tsyz"
      }
    },
    {
      "cell_type": "code",
      "source": [
        "from sklearn.linear_model import LogisticRegression\n",
        "from causalml.inference.meta import BaseXLearner\n",
        "from sklearn.ensemble import RandomForestRegressor\n",
        "import matplotlib.pyplot as plt\n",
        "\n",
        "# 3. Sensitivity check #1: X-Learner (with dict of propensities)\n",
        "\n",
        "#  Fitting a logistic model to get P(T=1|X) and P(T=0|X)\n",
        "ps_model = LogisticRegression(max_iter=1000, random_state=42)\n",
        "ps_model.fit(X_values, T)\n",
        "proba = ps_model.predict_proba(X_values)   # shape = (n_samples, 2)\n",
        "\n",
        "# Building a dict: level:: P(T=level|X)\n",
        "#    ps_model.classes_ is [0, 1], and proba[:,0] is P(T=0), proba[:,1] is P(T=1)\n",
        "p_dict = {cls: proba[:, i] for i, cls in enumerate(ps_model.classes_)}\n",
        "\n",
        "# Here we are instantiating and fitting the X-Learner and passing in p_dict\n",
        "xl = BaseXLearner(learner=RandomForestRegressor(random_state=42))\n",
        "xl.fit(X_values, T, y, p=p_dict)\n",
        "\n",
        "# Predict the CATEs (treatment=1 vs control=0)\n",
        "te_xl = xl.predict(X_values, p=p_dict)[:, 0]\n",
        "df_model['CATE_XL'] = te_xl\n",
        "ate_xl = te_xl.mean()\n",
        "print(f\"\\nX-Learner ATE (↑ vs no-↑): {ate_xl:.5f}\")\n",
        "\n",
        "# Lastly plotting the HTE distribution\n",
        "plt.figure()\n",
        "plt.hist(te_xl, bins=30, edgecolor='k')\n",
        "plt.title('HTE (X-Learner): ↑ vs no-↑')\n",
        "plt.xlabel('Estimated ΔChurnRate')\n",
        "plt.ylabel('Count')\n",
        "plt.tight_layout()\n",
        "plt.show()\n",
        "\n"
      ],
      "metadata": {
        "colab": {
          "base_uri": "https://localhost:8080/",
          "height": 509
        },
        "id": "H7nrc2kb7GSX",
        "outputId": "fa494a84-84b2-4cf3-e58e-b2ad18b94963"
      },
      "execution_count": null,
      "outputs": [
        {
          "output_type": "stream",
          "name": "stdout",
          "text": [
            "\n",
            "X-Learner ATE (↑ vs no-↑): -0.00343\n"
          ]
        },
        {
          "output_type": "display_data",
          "data": {
            "text/plain": [
              "<Figure size 640x480 with 1 Axes>"
            ],
            "image/png": "[encoded data removed]"
          },
          "metadata": {}
        }
      ]
    },
    {
      "cell_type": "code",
      "source": [
        "df_model.to_csv('df_model.csv', index=False)"
      ],
      "metadata": {
        "id": "xN80OOonmUby"
      },
      "execution_count": null,
      "outputs": []
    },
    {
      "cell_type": "code",
      "source": [
        "\n",
        "# 4. Placebo check: shuffle treatment\n",
        "T_placebo = np.random.permutation(T)\n",
        "dr_placebo = BaseDRLearner(learner=RandomForestRegressor(random_state=42))\n",
        "dr_placebo.fit(X_values, T_placebo, y)\n",
        "te_placebo = dr_placebo.predict(X_values)[:, 0]\n",
        "ate_placebo = te_placebo.mean()\n",
        "print(f\"\\nPlacebo ATE (shuffled T): {ate_placebo:.5f}\")\n",
        "\n",
        "plt.figure()\n",
        "plt.hist(te_placebo, bins=30, edgecolor='k')\n",
        "plt.title('HTE (Placebo - shuffled T)')\n",
        "plt.xlabel('Estimated ΔChurnRate')\n",
        "plt.ylabel('Count')\n",
        "plt.tight_layout()\n",
        "plt.show()"
      ],
      "metadata": {
        "colab": {
          "base_uri": "https://localhost:8080/",
          "height": 1000
        },
        "id": "R2tVlrjA9atN",
        "outputId": "cbd9df8d-1e93-4924-9c7a-a164048a3ed3"
      },
      "execution_count": null,
      "outputs": [
        {
          "output_type": "stream",
          "name": "stderr",
          "text": [
            "/usr/local/lib/python3.11/dist-packages/sklearn/linear_model/_sag.py:348: ConvergenceWarning: The max_iter was reached which means the coef_ did not converge\n",
            "  warnings.warn(\n",
            "/usr/local/lib/python3.11/dist-packages/sklearn/linear_model/_sag.py:348: ConvergenceWarning: The max_iter was reached which means the coef_ did not converge\n",
            "  warnings.warn(\n",
            "/usr/local/lib/python3.11/dist-packages/sklearn/linear_model/_sag.py:348: ConvergenceWarning: The max_iter was reached which means the coef_ did not converge\n",
            "  warnings.warn(\n",
            "/usr/local/lib/python3.11/dist-packages/sklearn/linear_model/_sag.py:348: ConvergenceWarning: The max_iter was reached which means the coef_ did not converge\n",
            "  warnings.warn(\n",
            "/usr/local/lib/python3.11/dist-packages/sklearn/linear_model/_sag.py:348: ConvergenceWarning: The max_iter was reached which means the coef_ did not converge\n",
            "  warnings.warn(\n",
            "/usr/local/lib/python3.11/dist-packages/sklearn/linear_model/_sag.py:348: ConvergenceWarning: The max_iter was reached which means the coef_ did not converge\n",
            "  warnings.warn(\n",
            "/usr/local/lib/python3.11/dist-packages/sklearn/linear_model/_sag.py:348: ConvergenceWarning: The max_iter was reached which means the coef_ did not converge\n",
            "  warnings.warn(\n",
            "/usr/local/lib/python3.11/dist-packages/sklearn/linear_model/_sag.py:348: ConvergenceWarning: The max_iter was reached which means the coef_ did not converge\n",
            "  warnings.warn(\n",
            "/usr/local/lib/python3.11/dist-packages/sklearn/linear_model/_sag.py:348: ConvergenceWarning: The max_iter was reached which means the coef_ did not converge\n",
            "  warnings.warn(\n",
            "/usr/local/lib/python3.11/dist-packages/sklearn/linear_model/_sag.py:348: ConvergenceWarning: The max_iter was reached which means the coef_ did not converge\n",
            "  warnings.warn(\n",
            "/usr/local/lib/python3.11/dist-packages/sklearn/linear_model/_sag.py:348: ConvergenceWarning: The max_iter was reached which means the coef_ did not converge\n",
            "  warnings.warn(\n",
            "/usr/local/lib/python3.11/dist-packages/sklearn/linear_model/_sag.py:348: ConvergenceWarning: The max_iter was reached which means the coef_ did not converge\n",
            "  warnings.warn(\n",
            "/usr/local/lib/python3.11/dist-packages/sklearn/linear_model/_sag.py:348: ConvergenceWarning: The max_iter was reached which means the coef_ did not converge\n",
            "  warnings.warn(\n",
            "/usr/local/lib/python3.11/dist-packages/sklearn/linear_model/_sag.py:348: ConvergenceWarning: The max_iter was reached which means the coef_ did not converge\n",
            "  warnings.warn(\n",
            "/usr/local/lib/python3.11/dist-packages/sklearn/linear_model/_sag.py:348: ConvergenceWarning: The max_iter was reached which means the coef_ did not converge\n",
            "  warnings.warn(\n",
            "/usr/local/lib/python3.11/dist-packages/sklearn/linear_model/_sag.py:348: ConvergenceWarning: The max_iter was reached which means the coef_ did not converge\n",
            "  warnings.warn(\n",
            "/usr/local/lib/python3.11/dist-packages/sklearn/linear_model/_sag.py:348: ConvergenceWarning: The max_iter was reached which means the coef_ did not converge\n",
            "  warnings.warn(\n",
            "/usr/local/lib/python3.11/dist-packages/sklearn/linear_model/_sag.py:348: ConvergenceWarning: The max_iter was reached which means the coef_ did not converge\n",
            "  warnings.warn(\n",
            "/usr/local/lib/python3.11/dist-packages/sklearn/linear_model/_sag.py:348: ConvergenceWarning: The max_iter was reached which means the coef_ did not converge\n",
            "  warnings.warn(\n",
            "/usr/local/lib/python3.11/dist-packages/sklearn/linear_model/_sag.py:348: ConvergenceWarning: The max_iter was reached which means the coef_ did not converge\n",
            "  warnings.warn(\n",
            "/usr/local/lib/python3.11/dist-packages/sklearn/linear_model/_sag.py:348: ConvergenceWarning: The max_iter was reached which means the coef_ did not converge\n",
            "  warnings.warn(\n",
            "/usr/local/lib/python3.11/dist-packages/sklearn/linear_model/_sag.py:348: ConvergenceWarning: The max_iter was reached which means the coef_ did not converge\n",
            "  warnings.warn(\n",
            "/usr/local/lib/python3.11/dist-packages/sklearn/linear_model/_sag.py:348: ConvergenceWarning: The max_iter was reached which means the coef_ did not converge\n",
            "  warnings.warn(\n"
          ]
        },
        {
          "output_type": "stream",
          "name": "stdout",
          "text": [
            "\n",
            "Placebo ATE (shuffled T): -0.00065\n"
          ]
        },
        {
          "output_type": "display_data",
          "data": {
            "text/plain": [
              "<Figure size 640x480 with 1 Axes>"
            ],
            "image/png": "[encoded data removed]"
          },
          "metadata": {}
        }
      ]
    },
    {
      "cell_type": "code",
      "source": [
        "# 5. Sensitivity #2: dropping the RiskFactor and re-estimate DR\n",
        "X_norf = X.drop(columns=['RiskFactor']).values\n",
        "dr_norf = BaseDRLearner(learner=RandomForestRegressor(random_state=42))\n",
        "dr_norf.fit(X_norf, T, y)\n",
        "te_norf = dr_norf.predict(X_norf)[:, 0]\n",
        "ate_norf = te_norf.mean()\n",
        "print(f\"\\nDR ATE without RiskFactor: {ate_norf:.5f}\")\n",
        "\n",
        "plt.figure()\n",
        "plt.hist(te_norf, bins=30, edgecolor='k')\n",
        "plt.title('HTE (DR without RiskFactor)')\n",
        "plt.xlabel('Estimated ΔChurnRate')\n",
        "plt.ylabel('Count')\n",
        "plt.tight_layout()\n",
        "plt.show()\n"
      ],
      "metadata": {
        "colab": {
          "base_uri": "https://localhost:8080/",
          "height": 702
        },
        "id": "K1B2cEJm9gCG",
        "outputId": "ed4e076b-f1bb-48f1-c64d-8a0ae133603e"
      },
      "execution_count": null,
      "outputs": [
        {
          "output_type": "stream",
          "name": "stderr",
          "text": [
            "/usr/local/lib/python3.11/dist-packages/sklearn/linear_model/_sag.py:348: ConvergenceWarning: The max_iter was reached which means the coef_ did not converge\n",
            "  warnings.warn(\n",
            "/usr/local/lib/python3.11/dist-packages/sklearn/linear_model/_sag.py:348: ConvergenceWarning: The max_iter was reached which means the coef_ did not converge\n",
            "  warnings.warn(\n",
            "/usr/local/lib/python3.11/dist-packages/sklearn/linear_model/_sag.py:348: ConvergenceWarning: The max_iter was reached which means the coef_ did not converge\n",
            "  warnings.warn(\n",
            "/usr/local/lib/python3.11/dist-packages/sklearn/linear_model/_sag.py:348: ConvergenceWarning: The max_iter was reached which means the coef_ did not converge\n",
            "  warnings.warn(\n",
            "/usr/local/lib/python3.11/dist-packages/sklearn/linear_model/_sag.py:348: ConvergenceWarning: The max_iter was reached which means the coef_ did not converge\n",
            "  warnings.warn(\n"
          ]
        },
        {
          "output_type": "stream",
          "name": "stdout",
          "text": [
            "\n",
            "DR ATE without RiskFactor: -0.00409\n"
          ]
        },
        {
          "output_type": "display_data",
          "data": {
            "text/plain": [
              "<Figure size 640x480 with 1 Axes>"
            ],
            "image/png": "[encoded data removed]"
          },
          "metadata": {}
        }
      ]
    },
    {
      "cell_type": "code",
      "metadata": {
        "colab": {
          "base_uri": "https://localhost:8080/"
        },
        "id": "db08d847",
        "outputId": "154aa79d-5153-453b-bdb8-0e19d4f53f80"
      },
      "source": [
        "print(np.unique(T))"
      ],
      "execution_count": null,
      "outputs": [
        {
          "output_type": "stream",
          "name": "stdout",
          "text": [
            "[0 1]\n"
          ]
        }
      ]
    }
  ]
}